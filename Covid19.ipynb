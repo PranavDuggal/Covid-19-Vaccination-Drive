{
  "nbformat": 4,
  "nbformat_minor": 0,
  "metadata": {
    "colab": {
      "name": "Covid19.ipynb",
      "provenance": []
    },
    "kernelspec": {
      "name": "python3",
      "display_name": "Python 3"
    }
  },
  "cells": [
    {
      "cell_type": "code",
      "metadata": {
        "id": "wP2d_PhwTeJC"
      },
      "source": [
        "import pandas as pd\r\n",
        "import numpy as np\r\n",
        "import matplotlib.pyplot as plt\r\n",
        "import plotly.express as px\r\n",
        "import plotly.graph_objects as go\r\n",
        "import matplotlib.patches as mpatches\r\n",
        "from plotly.subplots import make_subplots\r\n",
        "from wordcloud import WordCloud\r\n",
        "import seaborn as sns  \r\n",
        "sns.set(color_codes = True)\r\n",
        "sns.set(style=\"whitegrid\")\r\n",
        "import plotly.figure_factory as ff\r\n",
        "from plotly.colors import n_colors"
      ],
      "execution_count": 2,
      "outputs": []
    },
    {
      "cell_type": "code",
      "metadata": {
        "colab": {
          "base_uri": "https://localhost:8080/",
          "height": 299
        },
        "id": "VEXhcAetbY9j",
        "outputId": "1e588b31-8e91-419e-df16-a44c53bdb4fe"
      },
      "source": [
        "data = pd.read_csv(\"country_vaccinations.csv\")\r\n",
        "data.head()"
      ],
      "execution_count": 6,
      "outputs": [
        {
          "output_type": "execute_result",
          "data": {
            "text/html": [
              "<div>\n",
              "<style scoped>\n",
              "    .dataframe tbody tr th:only-of-type {\n",
              "        vertical-align: middle;\n",
              "    }\n",
              "\n",
              "    .dataframe tbody tr th {\n",
              "        vertical-align: top;\n",
              "    }\n",
              "\n",
              "    .dataframe thead th {\n",
              "        text-align: right;\n",
              "    }\n",
              "</style>\n",
              "<table border=\"1\" class=\"dataframe\">\n",
              "  <thead>\n",
              "    <tr style=\"text-align: right;\">\n",
              "      <th></th>\n",
              "      <th>country</th>\n",
              "      <th>iso_code</th>\n",
              "      <th>date</th>\n",
              "      <th>total_vaccinations</th>\n",
              "      <th>people_vaccinated</th>\n",
              "      <th>people_fully_vaccinated</th>\n",
              "      <th>daily_vaccinations_raw</th>\n",
              "      <th>daily_vaccinations</th>\n",
              "      <th>total_vaccinations_per_hundred</th>\n",
              "      <th>people_vaccinated_per_hundred</th>\n",
              "      <th>people_fully_vaccinated_per_hundred</th>\n",
              "      <th>daily_vaccinations_per_million</th>\n",
              "      <th>vaccines</th>\n",
              "      <th>source_name</th>\n",
              "      <th>source_website</th>\n",
              "    </tr>\n",
              "  </thead>\n",
              "  <tbody>\n",
              "    <tr>\n",
              "      <th>0</th>\n",
              "      <td>Algeria</td>\n",
              "      <td>DZA</td>\n",
              "      <td>2021-01-29</td>\n",
              "      <td>0.0</td>\n",
              "      <td>NaN</td>\n",
              "      <td>NaN</td>\n",
              "      <td>NaN</td>\n",
              "      <td>NaN</td>\n",
              "      <td>0.00</td>\n",
              "      <td>NaN</td>\n",
              "      <td>NaN</td>\n",
              "      <td>NaN</td>\n",
              "      <td>Sputnik V</td>\n",
              "      <td>Ministry of Health</td>\n",
              "      <td>https://www.aps.dz/regions/116777-blida-covid-...</td>\n",
              "    </tr>\n",
              "    <tr>\n",
              "      <th>1</th>\n",
              "      <td>Algeria</td>\n",
              "      <td>DZA</td>\n",
              "      <td>2021-01-30</td>\n",
              "      <td>30.0</td>\n",
              "      <td>NaN</td>\n",
              "      <td>NaN</td>\n",
              "      <td>30.0</td>\n",
              "      <td>30.0</td>\n",
              "      <td>0.00</td>\n",
              "      <td>NaN</td>\n",
              "      <td>NaN</td>\n",
              "      <td>1.0</td>\n",
              "      <td>Sputnik V</td>\n",
              "      <td>Ministry of Health</td>\n",
              "      <td>https://www.aps.dz/regions/116777-blida-covid-...</td>\n",
              "    </tr>\n",
              "    <tr>\n",
              "      <th>2</th>\n",
              "      <td>Andorra</td>\n",
              "      <td>AND</td>\n",
              "      <td>2021-01-25</td>\n",
              "      <td>576.0</td>\n",
              "      <td>576.0</td>\n",
              "      <td>NaN</td>\n",
              "      <td>NaN</td>\n",
              "      <td>NaN</td>\n",
              "      <td>0.75</td>\n",
              "      <td>0.75</td>\n",
              "      <td>NaN</td>\n",
              "      <td>NaN</td>\n",
              "      <td>Pfizer/BioNTech</td>\n",
              "      <td>Government of Andorra</td>\n",
              "      <td>https://www.govern.ad/comunicats/item/12379-se...</td>\n",
              "    </tr>\n",
              "    <tr>\n",
              "      <th>3</th>\n",
              "      <td>Andorra</td>\n",
              "      <td>AND</td>\n",
              "      <td>2021-01-26</td>\n",
              "      <td>NaN</td>\n",
              "      <td>NaN</td>\n",
              "      <td>NaN</td>\n",
              "      <td>NaN</td>\n",
              "      <td>66.0</td>\n",
              "      <td>NaN</td>\n",
              "      <td>NaN</td>\n",
              "      <td>NaN</td>\n",
              "      <td>854.0</td>\n",
              "      <td>Pfizer/BioNTech</td>\n",
              "      <td>Government of Andorra</td>\n",
              "      <td>https://www.govern.ad/comunicats/item/12379-se...</td>\n",
              "    </tr>\n",
              "    <tr>\n",
              "      <th>4</th>\n",
              "      <td>Andorra</td>\n",
              "      <td>AND</td>\n",
              "      <td>2021-01-27</td>\n",
              "      <td>NaN</td>\n",
              "      <td>NaN</td>\n",
              "      <td>NaN</td>\n",
              "      <td>NaN</td>\n",
              "      <td>66.0</td>\n",
              "      <td>NaN</td>\n",
              "      <td>NaN</td>\n",
              "      <td>NaN</td>\n",
              "      <td>854.0</td>\n",
              "      <td>Pfizer/BioNTech</td>\n",
              "      <td>Government of Andorra</td>\n",
              "      <td>https://www.govern.ad/comunicats/item/12379-se...</td>\n",
              "    </tr>\n",
              "  </tbody>\n",
              "</table>\n",
              "</div>"
            ],
            "text/plain": [
              "   country  ...                                     source_website\n",
              "0  Algeria  ...  https://www.aps.dz/regions/116777-blida-covid-...\n",
              "1  Algeria  ...  https://www.aps.dz/regions/116777-blida-covid-...\n",
              "2  Andorra  ...  https://www.govern.ad/comunicats/item/12379-se...\n",
              "3  Andorra  ...  https://www.govern.ad/comunicats/item/12379-se...\n",
              "4  Andorra  ...  https://www.govern.ad/comunicats/item/12379-se...\n",
              "\n",
              "[5 rows x 15 columns]"
            ]
          },
          "metadata": {
            "tags": []
          },
          "execution_count": 6
        }
      ]
    },
    {
      "cell_type": "code",
      "metadata": {
        "colab": {
          "base_uri": "https://localhost:8080/"
        },
        "id": "JJ_ovt7rcVnH",
        "outputId": "e29bd7ac-312c-4e1c-f008-e65396f9d0be"
      },
      "source": [
        "data.info()"
      ],
      "execution_count": 7,
      "outputs": [
        {
          "output_type": "stream",
          "text": [
            "<class 'pandas.core.frame.DataFrame'>\n",
            "RangeIndex: 2175 entries, 0 to 2174\n",
            "Data columns (total 15 columns):\n",
            " #   Column                               Non-Null Count  Dtype  \n",
            "---  ------                               --------------  -----  \n",
            " 0   country                              2175 non-null   object \n",
            " 1   iso_code                             1965 non-null   object \n",
            " 2   date                                 2175 non-null   object \n",
            " 3   total_vaccinations                   1437 non-null   float64\n",
            " 4   people_vaccinated                    1128 non-null   float64\n",
            " 5   people_fully_vaccinated              622 non-null    float64\n",
            " 6   daily_vaccinations_raw               1168 non-null   float64\n",
            " 7   daily_vaccinations                   2097 non-null   float64\n",
            " 8   total_vaccinations_per_hundred       1437 non-null   float64\n",
            " 9   people_vaccinated_per_hundred        1128 non-null   float64\n",
            " 10  people_fully_vaccinated_per_hundred  622 non-null    float64\n",
            " 11  daily_vaccinations_per_million       2097 non-null   float64\n",
            " 12  vaccines                             2175 non-null   object \n",
            " 13  source_name                          2175 non-null   object \n",
            " 14  source_website                       2175 non-null   object \n",
            "dtypes: float64(9), object(6)\n",
            "memory usage: 255.0+ KB\n"
          ],
          "name": "stdout"
        }
      ]
    },
    {
      "cell_type": "code",
      "metadata": {
        "colab": {
          "base_uri": "https://localhost:8080/"
        },
        "id": "sFbjnO8GdqHM",
        "outputId": "30c55ae6-7a4c-4cf6-ea20-2fddc8592eb0"
      },
      "source": [
        "data.isnull().sum()"
      ],
      "execution_count": 9,
      "outputs": [
        {
          "output_type": "execute_result",
          "data": {
            "text/plain": [
              "country                                   0\n",
              "iso_code                                210\n",
              "date                                      0\n",
              "total_vaccinations                      738\n",
              "people_vaccinated                      1047\n",
              "people_fully_vaccinated                1553\n",
              "daily_vaccinations_raw                 1007\n",
              "daily_vaccinations                       78\n",
              "total_vaccinations_per_hundred          738\n",
              "people_vaccinated_per_hundred          1047\n",
              "people_fully_vaccinated_per_hundred    1553\n",
              "daily_vaccinations_per_million           78\n",
              "vaccines                                  0\n",
              "source_name                               0\n",
              "source_website                            0\n",
              "dtype: int64"
            ]
          },
          "metadata": {
            "tags": []
          },
          "execution_count": 9
        }
      ]
    },
    {
      "cell_type": "code",
      "metadata": {
        "colab": {
          "base_uri": "https://localhost:8080/",
          "height": 299
        },
        "id": "7GIKCDobd1Bw",
        "outputId": "89454491-0c8a-4b90-a4d6-b34b82c75f93"
      },
      "source": [
        "new_data = data.groupby([\"country\",'iso_code','vaccines'])['total_vaccinations','people_vaccinated','people_fully_vaccinated',\r\n",
        "                                           'daily_vaccinations','total_vaccinations_per_hundred','people_vaccinated_per_hundred',\r\n",
        "                                           \"people_fully_vaccinated_per_hundred\",'daily_vaccinations_per_million'].max().reset_index()\r\n",
        "new_data.head()"
      ],
      "execution_count": 10,
      "outputs": [
        {
          "output_type": "stream",
          "text": [
            "/usr/local/lib/python3.6/dist-packages/ipykernel_launcher.py:3: FutureWarning:\n",
            "\n",
            "Indexing with multiple keys (implicitly converted to a tuple of keys) will be deprecated, use a list instead.\n",
            "\n"
          ],
          "name": "stderr"
        },
        {
          "output_type": "execute_result",
          "data": {
            "text/html": [
              "<div>\n",
              "<style scoped>\n",
              "    .dataframe tbody tr th:only-of-type {\n",
              "        vertical-align: middle;\n",
              "    }\n",
              "\n",
              "    .dataframe tbody tr th {\n",
              "        vertical-align: top;\n",
              "    }\n",
              "\n",
              "    .dataframe thead th {\n",
              "        text-align: right;\n",
              "    }\n",
              "</style>\n",
              "<table border=\"1\" class=\"dataframe\">\n",
              "  <thead>\n",
              "    <tr style=\"text-align: right;\">\n",
              "      <th></th>\n",
              "      <th>country</th>\n",
              "      <th>iso_code</th>\n",
              "      <th>vaccines</th>\n",
              "      <th>total_vaccinations</th>\n",
              "      <th>people_vaccinated</th>\n",
              "      <th>people_fully_vaccinated</th>\n",
              "      <th>daily_vaccinations</th>\n",
              "      <th>total_vaccinations_per_hundred</th>\n",
              "      <th>people_vaccinated_per_hundred</th>\n",
              "      <th>people_fully_vaccinated_per_hundred</th>\n",
              "      <th>daily_vaccinations_per_million</th>\n",
              "    </tr>\n",
              "  </thead>\n",
              "  <tbody>\n",
              "    <tr>\n",
              "      <th>0</th>\n",
              "      <td>Algeria</td>\n",
              "      <td>DZA</td>\n",
              "      <td>Sputnik V</td>\n",
              "      <td>30.0</td>\n",
              "      <td>NaN</td>\n",
              "      <td>NaN</td>\n",
              "      <td>30.0</td>\n",
              "      <td>0.00</td>\n",
              "      <td>NaN</td>\n",
              "      <td>NaN</td>\n",
              "      <td>1.0</td>\n",
              "    </tr>\n",
              "    <tr>\n",
              "      <th>1</th>\n",
              "      <td>Andorra</td>\n",
              "      <td>AND</td>\n",
              "      <td>Pfizer/BioNTech</td>\n",
              "      <td>1036.0</td>\n",
              "      <td>1036.0</td>\n",
              "      <td>NaN</td>\n",
              "      <td>66.0</td>\n",
              "      <td>1.34</td>\n",
              "      <td>1.34</td>\n",
              "      <td>NaN</td>\n",
              "      <td>854.0</td>\n",
              "    </tr>\n",
              "    <tr>\n",
              "      <th>2</th>\n",
              "      <td>Argentina</td>\n",
              "      <td>ARG</td>\n",
              "      <td>Sputnik V</td>\n",
              "      <td>396562.0</td>\n",
              "      <td>284196.0</td>\n",
              "      <td>112366.0</td>\n",
              "      <td>15656.0</td>\n",
              "      <td>0.88</td>\n",
              "      <td>0.63</td>\n",
              "      <td>0.25</td>\n",
              "      <td>346.0</td>\n",
              "    </tr>\n",
              "    <tr>\n",
              "      <th>3</th>\n",
              "      <td>Austria</td>\n",
              "      <td>AUT</td>\n",
              "      <td>Pfizer/BioNTech</td>\n",
              "      <td>222520.0</td>\n",
              "      <td>194287.0</td>\n",
              "      <td>28233.0</td>\n",
              "      <td>12278.0</td>\n",
              "      <td>2.47</td>\n",
              "      <td>2.16</td>\n",
              "      <td>0.31</td>\n",
              "      <td>1363.0</td>\n",
              "    </tr>\n",
              "    <tr>\n",
              "      <th>4</th>\n",
              "      <td>Bahrain</td>\n",
              "      <td>BHR</td>\n",
              "      <td>Pfizer/BioNTech, Sinopharm</td>\n",
              "      <td>175094.0</td>\n",
              "      <td>175094.0</td>\n",
              "      <td>NaN</td>\n",
              "      <td>11106.0</td>\n",
              "      <td>10.29</td>\n",
              "      <td>10.29</td>\n",
              "      <td>NaN</td>\n",
              "      <td>6527.0</td>\n",
              "    </tr>\n",
              "  </tbody>\n",
              "</table>\n",
              "</div>"
            ],
            "text/plain": [
              "     country  ... daily_vaccinations_per_million\n",
              "0    Algeria  ...                            1.0\n",
              "1    Andorra  ...                          854.0\n",
              "2  Argentina  ...                          346.0\n",
              "3    Austria  ...                         1363.0\n",
              "4    Bahrain  ...                         6527.0\n",
              "\n",
              "[5 rows x 11 columns]"
            ]
          },
          "metadata": {
            "tags": []
          },
          "execution_count": 10
        }
      ]
    },
    {
      "cell_type": "code",
      "metadata": {
        "colab": {
          "base_uri": "https://localhost:8080/"
        },
        "id": "l-MPA1L4eTGf",
        "outputId": "6997e4ef-a304-49c1-aae4-f33d6d346c66"
      },
      "source": [
        "new_data['vaccines'].value_counts()"
      ],
      "execution_count": 12,
      "outputs": [
        {
          "output_type": "execute_result",
          "data": {
            "text/plain": [
              "Pfizer/BioNTech                          38\n",
              "Moderna, Pfizer/BioNTech                 14\n",
              "Oxford/AstraZeneca                        6\n",
              "Sputnik V                                 3\n",
              "Pfizer/BioNTech, Sinopharm                2\n",
              "Sinovac                                   2\n",
              "Oxford/AstraZeneca, Sinopharm             2\n",
              "Sinopharm                                 1\n",
              "Pfizer/BioNTech, Sinopharm, Sputnik V     1\n",
              "Oxford/AstraZeneca, Sinovac               1\n",
              "CNBG, Sinovac                             1\n",
              "Oxford/AstraZeneca, Pfizer/BioNTech       1\n",
              "Covaxin, Oxford/AstraZeneca               1\n",
              "Name: vaccines, dtype: int64"
            ]
          },
          "metadata": {
            "tags": []
          },
          "execution_count": 12
        }
      ]
    },
    {
      "cell_type": "code",
      "metadata": {
        "id": "eoKpNKMderQw"
      },
      "source": [
        ""
      ],
      "execution_count": null,
      "outputs": []
    }
  ]
}